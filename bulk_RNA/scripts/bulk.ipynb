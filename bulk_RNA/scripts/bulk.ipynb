{
 "cells": [
  {
   "cell_type": "code",
   "execution_count": null,
   "metadata": {
    "vscode": {
     "languageId": "r"
    }
   },
   "outputs": [],
   "source": [
    "# Load libraries\n",
    "library(GEOquery)\n",
    "library(SRAdb)\n",
    "library(dplyr)\n",
    "library(readr)"
   ]
  },
  {
   "cell_type": "code",
   "execution_count": 5,
   "metadata": {
    "vscode": {
     "languageId": "r"
    }
   },
   "outputs": [],
   "source": [
    "# Create directories for data storage\n",
    "main_dir <- \"NAFLD_NASH_RNAseq\"\n",
    "if (!dir.exists(main_dir)) {\n",
    "  dir.create(main_dir)\n",
    "}\n",
    "\n",
    "metadata_dir <- file.path(main_dir, \"metadata\")\n",
    "if (!dir.exists(metadata_dir)) {\n",
    "  dir.create(metadata_dir)\n",
    "}\n",
    "\n",
    "raw_data_dir <- file.path(main_dir, \"raw_data\")\n",
    "if (!dir.exists(raw_data_dir)) {\n",
    "  dir.create(raw_data_dir)\n",
    "}\n"
   ]
  },
  {
   "cell_type": "code",
   "execution_count": null,
   "metadata": {
    "vscode": {
     "languageId": "r"
    }
   },
   "outputs": [],
   "source": [
    "geo_accessions <- c(\n",
    "  \"GSE135251\", # Liu et al. (2020)\n",
    "  \"GSE130970\", # Govaere et al. (2020) - Transcriptomic Profiling Across NAFLD Spectrum\n",
    "  \"GSE126848\", # Suppli et al. (2019)\n",
    ")"
   ]
  },
  {
   "cell_type": "code",
   "execution_count": 14,
   "metadata": {
    "vscode": {
     "languageId": "r"
    }
   },
   "outputs": [],
   "source": [
    "# Function to download and process GEO dataset\n",
    "download_geo_dataset <- function(geo_accession) {\n",
    "  cat(\"Processing\", geo_accession, \"...\\n\")\n",
    "  \n",
    "  # Set output directory for this dataset\n",
    "  dataset_dir <- file.path(raw_data_dir, geo_accession)\n",
    "  if (!dir.exists(dataset_dir)) {\n",
    "    dir.create(dataset_dir)\n",
    "  }\n",
    "  \n",
    "  # Download GEO metadata\n",
    "  gse <- getGEO(geo_accession, GSEMatrix = TRUE, getGPL = FALSE)\n",
    "  \n",
    "  # Extract metadata - fixed to handle list objects properly\n",
    "  if (is(gse, \"list\")) {\n",
    "    # If gse is a list (even with just one element), extract the first element\n",
    "    metadata <- pData(phenoData(gse[[1]]))\n",
    "  } else {\n",
    "    # If gse is not a list but a direct ExpressionSet object\n",
    "    metadata <- pData(phenoData(gse))\n",
    "  }\n",
    "  \n",
    "  # Save metadata\n",
    "  metadata_file <- file.path(metadata_dir, paste0(geo_accession, \"_metadata.csv\"))\n",
    "  write.csv(metadata, metadata_file, row.names = FALSE)\n",
    "  \n",
    "  # Try to get SRA information if available\n",
    "  sra_info <- NULL\n",
    "  try({\n",
    "    # Create or connect to the SRAdb SQLite database\n",
    "    sra_dbname <- file.path(main_dir, \"SRAmetadb.sqlite\")\n",
    "    if (!file.exists(sra_dbname)) {\n",
    "      sra_dbname <- getSRAdbFile(destdir = main_dir)\n",
    "    }\n",
    "    con <- dbConnect(SQLite(), sra_dbname)\n",
    "    \n",
    "    # Find SRX IDs from the metadata (if available)\n",
    "    srx_pattern <- \"SRX[0-9]+\"\n",
    "    source_name_col <- which(grepl(\"source_name\", colnames(metadata), ignore.case = TRUE))\n",
    "    if (length(source_name_col) > 0) {\n",
    "      potential_srx <- unlist(regmatches(metadata[, source_name_col], \n",
    "                                        gregexpr(srx_pattern, metadata[, source_name_col])))\n",
    "    } else {\n",
    "      # Look through all columns for SRX patterns\n",
    "      all_text <- apply(metadata, 2, paste, collapse = \" \")\n",
    "      potential_srx <- unlist(regmatches(all_text, gregexpr(srx_pattern, all_text)))\n",
    "    }\n",
    "    \n",
    "    if (length(potential_srx) > 0) {\n",
    "      # Get SRA run information\n",
    "      sra_info <- listSRAfile(search_terms = paste(potential_srx, collapse = \" OR \"), \n",
    "                              con = con, sraType = \"sra\")\n",
    "    }\n",
    "    \n",
    "    # Close the SRA database connection\n",
    "    dbDisconnect(con)\n",
    "  }, silent = TRUE)\n",
    "  \n",
    "  # Extract expression data if available in GEO - fixed to handle list objects properly\n",
    "  if (length(gse) > 0) {\n",
    "    if (is(gse, \"list\")) {\n",
    "      expr_data <- exprs(gse[[1]])\n",
    "    } else {\n",
    "      expr_data <- exprs(gse)\n",
    "    }\n",
    "    expr_file <- file.path(dataset_dir, paste0(geo_accession, \"_expression_matrix.csv\"))\n",
    "    write.csv(expr_data, expr_file)\n",
    "  }\n",
    "  \n",
    "  # Return information about the dataset\n",
    "  return(list(\n",
    "    accession = geo_accession,\n",
    "    sample_count = nrow(metadata),\n",
    "    sra_info = sra_info\n",
    "  ))\n",
    "}"
   ]
  },
  {
   "cell_type": "code",
   "execution_count": null,
   "metadata": {
    "vscode": {
     "languageId": "r"
    }
   },
   "outputs": [],
   "source": [
    "# Function to extract and save phenotype data for DESeq2 analysis\n",
    "extract_phenotype_data <- function(geo_accession) {\n",
    "  cat(\"Extracting phenotype data for\", geo_accession, \"...\\n\")\n",
    "  \n",
    "  # Load metadata\n",
    "  metadata_file <- file.path(metadata_dir, paste0(geo_accession, \"_metadata.csv\"))\n",
    "  if (!file.exists(metadata_file)) {\n",
    "    cat(\"Metadata file not found for\", geo_accession, \"\\n\")\n",
    "    return(NULL)\n",
    "  }\n",
    "  \n",
    "  metadata <- read.csv(metadata_file)\n",
    "  \n",
    "  # Try to identify condition column\n",
    "  condition_cols <- grep(\"disease|condition|state|status|source|nafld|nash|steatosis|fibrosis|characteristic\", \n",
    "                         colnames(metadata), ignore.case = TRUE)\n",
    "  \n",
    "  if (length(condition_cols) == 0) {\n",
    "    cat(\"No condition column found for\", geo_accession, \"\\n\")\n",
    "    return(NULL)\n",
    "  }\n",
    "  \n",
    "  # Create simplified phenotype data for DESeq2\n",
    "  phenotype_data <- data.frame(\n",
    "    sample_id = rownames(metadata)\n",
    "  )\n",
    "  \n",
    "  # Add condition columns\n",
    "  for (col in condition_cols) {\n",
    "    col_name <- colnames(metadata)[col]\n",
    "    phenotype_data[[col_name]] <- metadata[, col]\n",
    "  }\n",
    "  \n",
    "  # Save phenotype data\n",
    "  phenotype_file <- file.path(metadata_dir, paste0(geo_accession, \"_phenotype.csv\"))\n",
    "  write.csv(phenotype_data, phenotype_file, row.names = FALSE)\n",
    "  \n",
    "  return(phenotype_data)\n",
    "}"
   ]
  },
  {
   "cell_type": "code",
   "execution_count": null,
   "metadata": {
    "vscode": {
     "languageId": "r"
    }
   },
   "outputs": [
    {
     "name": "stdout",
     "output_type": "stream",
     "text": [
      "Processing GSE135251 ...\n"
     ]
    },
    {
     "name": "stderr",
     "output_type": "stream",
     "text": [
      "Found 1 file(s)\n",
      "\n",
      "GSE135251_series_matrix.txt.gz\n",
      "\n",
      "Using locally cached version: /scratch/RtmpsGjXZX/GSE135251_series_matrix.txt.gz\n",
      "\n"
     ]
    },
    {
     "name": "stdout",
     "output_type": "stream",
     "text": [
      "Extracting phenotype data for GSE135251 ...\n",
      "Processing GSE130970 ...\n"
     ]
    },
    {
     "name": "stderr",
     "output_type": "stream",
     "text": [
      "Found 1 file(s)\n",
      "\n",
      "GSE130970_series_matrix.txt.gz\n",
      "\n",
      "Using locally cached version: /scratch/RtmpsGjXZX/GSE130970_series_matrix.txt.gz\n",
      "\n"
     ]
    },
    {
     "name": "stdout",
     "output_type": "stream",
     "text": [
      "Extracting phenotype data for GSE130970 ...\n",
      "Processing GSE126848 ...\n"
     ]
    },
    {
     "name": "stderr",
     "output_type": "stream",
     "text": [
      "Found 1 file(s)\n",
      "\n",
      "GSE126848_series_matrix.txt.gz\n",
      "\n",
      "Using locally cached version: /scratch/RtmpsGjXZX/GSE126848_series_matrix.txt.gz\n",
      "\n"
     ]
    },
    {
     "name": "stdout",
     "output_type": "stream",
     "text": [
      "Extracting phenotype data for GSE126848 ...\n",
      "Processing GSE63175 ...\n"
     ]
    },
    {
     "name": "stderr",
     "output_type": "stream",
     "text": [
      "Found 1 file(s)\n",
      "\n",
      "GSE63175_series_matrix.txt.gz\n",
      "\n",
      "Using locally cached version: /scratch/RtmpsGjXZX/GSE63175_series_matrix.txt.gz\n",
      "\n"
     ]
    },
    {
     "name": "stdout",
     "output_type": "stream",
     "text": [
      "Extracting phenotype data for GSE63175 ...\n",
      "Processing GSE119723 ...\n"
     ]
    },
    {
     "name": "stderr",
     "output_type": "stream",
     "text": [
      "Found 2 file(s)\n",
      "\n",
      "GSE119723-GPL16791_series_matrix.txt.gz\n",
      "\n",
      "Using locally cached version: /scratch/RtmpsGjXZX/GSE119723-GPL16791_series_matrix.txt.gz\n",
      "\n",
      "GSE119723-GPL18245_series_matrix.txt.gz\n",
      "\n",
      "Using locally cached version: /scratch/RtmpsGjXZX/GSE119723-GPL18245_series_matrix.txt.gz\n",
      "\n"
     ]
    },
    {
     "name": "stdout",
     "output_type": "stream",
     "text": [
      "Extracting phenotype data for GSE119723 ...\n",
      "Processing GSE179257 ...\n"
     ]
    },
    {
     "name": "stderr",
     "output_type": "stream",
     "text": [
      "Found 1 file(s)\n",
      "\n",
      "GSE179257_series_matrix.txt.gz\n",
      "\n",
      "Using locally cached version: /scratch/RtmpsGjXZX/GSE179257_series_matrix.txt.gz\n",
      "\n"
     ]
    },
    {
     "name": "stdout",
     "output_type": "stream",
     "text": [
      "Extracting phenotype data for GSE179257 ...\n",
      "Processing GSE137449 ...\n"
     ]
    },
    {
     "name": "stderr",
     "output_type": "stream",
     "text": [
      "Found 1 file(s)\n",
      "\n",
      "GSE137449_series_matrix.txt.gz\n",
      "\n",
      "Using locally cached version: /scratch/RtmpsGjXZX/GSE137449_series_matrix.txt.gz\n",
      "\n"
     ]
    },
    {
     "name": "stdout",
     "output_type": "stream",
     "text": [
      "Extracting phenotype data for GSE137449 ...\n",
      "Processing GSE83452 ...\n"
     ]
    },
    {
     "name": "stderr",
     "output_type": "stream",
     "text": [
      "Found 1 file(s)\n",
      "\n",
      "GSE83452_series_matrix.txt.gz\n",
      "\n",
      "Using locally cached version: /scratch/RtmpsGjXZX/GSE83452_series_matrix.txt.gz\n",
      "\n"
     ]
    },
    {
     "name": "stdout",
     "output_type": "stream",
     "text": [
      "Extracting phenotype data for GSE83452 ...\n",
      "Processing GSE115469 ...\n"
     ]
    },
    {
     "name": "stderr",
     "output_type": "stream",
     "text": [
      "Found 1 file(s)\n",
      "\n",
      "GSE115469_series_matrix.txt.gz\n",
      "\n",
      "Using locally cached version: /scratch/RtmpsGjXZX/GSE115469_series_matrix.txt.gz\n",
      "\n"
     ]
    },
    {
     "name": "stdout",
     "output_type": "stream",
     "text": [
      "Extracting phenotype data for GSE115469 ...\n",
      "Processing GSE106737 ...\n"
     ]
    },
    {
     "name": "stderr",
     "output_type": "stream",
     "text": [
      "Found 1 file(s)\n",
      "\n",
      "GSE106737_series_matrix.txt.gz\n",
      "\n",
      "Using locally cached version: /scratch/RtmpsGjXZX/GSE106737_series_matrix.txt.gz\n",
      "\n"
     ]
    },
    {
     "name": "stdout",
     "output_type": "stream",
     "text": [
      "Extracting phenotype data for GSE106737 ...\n",
      "Processing GSE48452 ...\n"
     ]
    },
    {
     "name": "stderr",
     "output_type": "stream",
     "text": [
      "Found 1 file(s)\n",
      "\n",
      "GSE48452_series_matrix.txt.gz\n",
      "\n"
     ]
    },
    {
     "name": "stdout",
     "output_type": "stream",
     "text": [
      "Extracting phenotype data for GSE48452 ...\n",
      "Processing GSE49541 ...\n"
     ]
    },
    {
     "name": "stderr",
     "output_type": "stream",
     "text": [
      "Found 1 file(s)\n",
      "\n",
      "GSE49541_series_matrix.txt.gz\n",
      "\n",
      "Using locally cached version: /scratch/RtmpsGjXZX/GSE49541_series_matrix.txt.gz\n",
      "\n"
     ]
    },
    {
     "name": "stdout",
     "output_type": "stream",
     "text": [
      "Extracting phenotype data for GSE49541 ...\n",
      "Processing GSE151158 ...\n"
     ]
    },
    {
     "name": "stderr",
     "output_type": "stream",
     "text": [
      "Found 1 file(s)\n",
      "\n",
      "GSE151158_series_matrix.txt.gz\n",
      "\n",
      "Using locally cached version: /scratch/RtmpsGjXZX/GSE151158_series_matrix.txt.gz\n",
      "\n"
     ]
    },
    {
     "name": "stdout",
     "output_type": "stream",
     "text": [
      "Extracting phenotype data for GSE151158 ...\n",
      "Processing GSE123876 ...\n"
     ]
    },
    {
     "name": "stderr",
     "output_type": "stream",
     "text": [
      "Found 1 file(s)\n",
      "\n",
      "GSE123876_series_matrix.txt.gz\n",
      "\n",
      "Using locally cached version: /scratch/RtmpsGjXZX/GSE123876_series_matrix.txt.gz\n",
      "\n"
     ]
    },
    {
     "name": "stdout",
     "output_type": "stream",
     "text": [
      "Extracting phenotype data for GSE123876 ...\n"
     ]
    }
   ],
   "source": [
    "# Process all GEO datasets\n",
    "results <- list()\n",
    "for (geo_accession in geo_accessions) {\n",
    "  tryCatch({\n",
    "    results[[geo_accession]] <- download_geo_dataset(geo_accession)\n",
    "    extract_phenotype_data(geo_accession)\n",
    "  }, error = function(e) {\n",
    "    cat(\"Error processing\", geo_accession, \":\", conditionMessage(e), \"\\n\")\n",
    "    results[[geo_accession]] <- list(\n",
    "      accession = geo_accession,\n",
    "      sample_count = 0,\n",
    "      sra_info = NULL,\n",
    "      error = conditionMessage(e)\n",
    "    )\n",
    "  })\n",
    "}"
   ]
  },
  {
   "cell_type": "code",
   "execution_count": null,
   "metadata": {
    "vscode": {
     "languageId": "r"
    }
   },
   "outputs": [],
   "source": [
    "# Create a summary of downloaded datasets\n",
    "summary_df <- data.frame(\n",
    "  GEO_Accession = sapply(results, function(x) x$accession),\n",
    "  Sample_Count = sapply(results, function(x) x$sample_count),\n",
    "  SRA_Available = sapply(results, function(x) !is.null(x$sra_info)),\n",
    "  SRA_Run_Count = sapply(results, function(x) ifelse(is.null(x$sra_info), 0, nrow(x$sra_info))),\n",
    "  Error = sapply(results, function(x) ifelse(is.null(x$error), \"\", x$error))\n",
    ")\n",
    "\n",
    "summary_file <- file.path(main_dir, \"dataset_summary.csv\")\n",
    "write.csv(summary_df, summary_file, row.names = FALSE)\n"
   ]
  },
  {
   "cell_type": "code",
   "execution_count": 21,
   "metadata": {
    "vscode": {
     "languageId": "r"
    }
   },
   "outputs": [],
   "source": [
    "# Function to download FASTQ files for a specific dataset\n",
    "download_fastq_files <- function(geo_accession, max_samples = 2) {\n",
    "  cat(\"Downloading FASTQ files for\", geo_accession, \"...\\n\")\n",
    "  \n",
    "  # Connect to SRA database\n",
    "  sra_dbname <- file.path(main_dir, \"SRAmetadb.sqlite\")\n",
    "  if (!file.exists(sra_dbname)) {\n",
    "    sra_dbname <- getSRAdbFile(destdir = main_dir)\n",
    "  }\n",
    "  con <- dbConnect(SQLite(), sra_dbname)\n",
    "  \n",
    "  # Get SRA info for this GEO accession\n",
    "  sra_info <- getSRAinfo(search_terms = geo_accession, con = con, sraType = \"sra\")\n",
    "  \n",
    "  # Limit to max_samples for demo purposes\n",
    "  if (nrow(sra_info) > max_samples) {\n",
    "    sra_info <- sra_info[1:max_samples, ]\n",
    "  }\n",
    "  \n",
    "  # Download FASTQ files\n",
    "  if (nrow(sra_info) > 0) {\n",
    "    output_dir <- file.path(raw_data_dir, geo_accession)\n",
    "    if (!dir.exists(output_dir)) {\n",
    "      dir.create(output_dir)\n",
    "    }\n",
    "    \n",
    "    # Get download URLs\n",
    "    fastq_urls <- getFASTQinfo(sra_info$run, con = con)\n",
    "    \n",
    "    # Download files\n",
    "    for (i in 1:nrow(fastq_urls)) {\n",
    "      url <- fastq_urls$ftpURL[i]\n",
    "      filename <- basename(url)\n",
    "      output_file <- file.path(output_dir, filename)\n",
    "      \n",
    "      if (!file.exists(output_file)) {\n",
    "        try({\n",
    "          cat(\"Downloading\", filename, \"...\\n\")\n",
    "          download.file(url, output_file)\n",
    "        }, silent = TRUE)\n",
    "      }\n",
    "    }\n",
    "  }\n",
    "  \n",
    "  # Close SRA database connection\n",
    "  dbDisconnect(con)\n",
    "}"
   ]
  },
  {
   "cell_type": "code",
   "execution_count": 22,
   "metadata": {
    "vscode": {
     "languageId": "r"
    }
   },
   "outputs": [],
   "source": [
    "# This will download FASTQ files for all studies listed in geo_accessions\n",
    "for (geo_accession in geo_accessions) {\n",
    "    download_fastq_files(geo_accession)\n",
    "}"
   ]
  },
  {
   "cell_type": "code",
   "execution_count": null,
   "metadata": {
    "vscode": {
     "languageId": "r"
    }
   },
   "outputs": [],
   "source": [
    "# Function to perform basic DESeq2 analysis on one dataset as an example\n",
    "run_deseq2_analysis <- function(geo_accession) {\n",
    "  cat(\"Performing DESeq2 analysis on\", geo_accession, \"...\\n\")\n",
    "  \n",
    "  # Check for required packages\n",
    "  if (!requireNamespace(\"DESeq2\", quietly = TRUE)) {\n",
    "    BiocManager::install(\"DESeq2\")\n",
    "  }\n",
    "  library(DESeq2)\n",
    "  \n",
    "  # Load expression matrix\n",
    "  expr_file <- file.path(raw_data_dir, geo_accession, paste0(geo_accession, \"_expression_matrix.csv\"))\n",
    "  if (!file.exists(expr_file)) {\n",
    "    cat(\"Expression matrix not found for\", geo_accession, \"\\n\")\n",
    "    return(NULL)\n",
    "  }\n",
    "  \n",
    "  expr_data <- read.csv(expr_file, row.names = 1)\n",
    "  \n",
    "  # Load phenotype data\n",
    "  phenotype_file <- file.path(metadata_dir, paste0(geo_accession, \"_phenotype.csv\"))\n",
    "  if (!file.exists(phenotype_file)) {\n",
    "    cat(\"Phenotype data not found for\", geo_accession, \"\\n\")\n",
    "    return(NULL)\n",
    "  }\n",
    "  \n",
    "  phenotype_data <- read.csv(phenotype_file)\n",
    "  \n",
    "  # Find a suitable condition column\n",
    "  condition_cols <- grep(\"disease|condition|state|status|nafld|nash|steatosis|fibrosis\", \n",
    "                         colnames(phenotype_data), ignore.case = TRUE)\n",
    "  \n",
    "  if (length(condition_cols) == 0) {\n",
    "    cat(\"No suitable condition column found for DESeq2 analysis\\n\")\n",
    "    return(NULL)\n",
    "  }\n",
    "  \n",
    "  # Use the first suitable condition column\n",
    "  condition_col <- condition_cols[1]\n",
    "  condition_name <- colnames(phenotype_data)[condition_col]\n",
    "  \n",
    "  # Ensure sample IDs match between expression and phenotype data\n",
    "  common_samples <- intersect(colnames(expr_data), phenotype_data$sample_id)\n",
    "  if (length(common_samples) == 0) {\n",
    "    cat(\"No matching samples between expression and phenotype data\\n\")\n",
    "    return(NULL)\n",
    "  }\n",
    "  \n",
    "  expr_data <- expr_data[, common_samples]\n",
    "  phenotype_data <- phenotype_data[phenotype_data$sample_id %in% common_samples, ]\n",
    "  \n",
    "  # Create DESeq2 object\n",
    "  dds <- DESeqDataSetFromMatrix(\n",
    "    countData = round(expr_data),  # DESeq2 requires integer counts\n",
    "    colData = phenotype_data,\n",
    "    design = as.formula(paste(\"~\", condition_name))\n",
    "  )\n",
    "  \n",
    "  # Run DESeq2 analysis\n",
    "  dds <- DESeq(dds)\n",
    "  \n",
    "  # Get results\n",
    "  res <- results(dds)\n",
    "  \n",
    "  # Save results\n",
    "  results_dir <- file.path(main_dir, \"deseq2_results\")\n",
    "  if (!dir.exists(results_dir)) {\n",
    "    dir.create(results_dir)\n",
    "  }\n",
    "  \n",
    "  results_file <- file.path(results_dir, paste0(geo_accession, \"_deseq2_results.csv\"))\n",
    "  write.csv(as.data.frame(res), results_file)\n",
    "  \n",
    "  return(res)\n",
    "}\n",
    "\n",
    "# Print summary information\n",
    "cat(\"\\nDownload Summary:\\n\")\n",
    "print(summary_df)\n",
    "\n",
    "cat(\"\\nData and metadata have been downloaded to:\", main_dir, \"\\n\")\n",
    "cat(\"To download FASTQ files, uncomment the download_fastq_files function call\\n\")\n",
    "cat(\"Note: Downloading all FASTQ files would require significant storage space and time\\n\")\n",
    "\n",
    "cat(\"\\nTo run DESeq2 analysis on a specific dataset, use the run_deseq2_analysis function\\n\")\n",
    "cat(\"Example: run_deseq2_analysis(\\\"GSE130970\\\")\\n\")\n",
    "\n",
    "# Function to extract differentially expressed genes for all datasets\n",
    "extract_degs_from_all_datasets <- function() {\n",
    "  # Check for required packages\n",
    "  if (!requireNamespace(\"DESeq2\", quietly = TRUE)) {\n",
    "    BiocManager::install(\"DESeq2\")\n",
    "  }\n",
    "  library(DESeq2)\n",
    "  \n",
    "  # Create results directory\n",
    "  results_dir <- file.path(main_dir, \"deseq2_results\")\n",
    "  if (!dir.exists(results_dir)) {\n",
    "    dir.create(results_dir)\n",
    "  }\n",
    "  \n",
    "  # Create a combined dataframe for all DEGs\n",
    "  all_degs <- data.frame(\n",
    "    gene = character(),\n",
    "    dataset = character(),\n",
    "    log2FoldChange = numeric(),\n",
    "    padj = numeric()\n",
    "  )\n",
    "  \n",
    "  # Process each dataset\n",
    "  for (geo_accession in geo_accessions) {\n",
    "    cat(\"Processing DEGs for\", geo_accession, \"...\\n\")\n",
    "    \n",
    "    # Check if expression data exists\n",
    "    expr_file <- file.path(raw_data_dir, geo_accession, paste0(geo_accession, \"_expression_matrix.csv\"))\n",
    "    if (!file.exists(expr_file)) {\n",
    "      cat(\"Expression matrix not found for\", geo_accession, \", skipping...\\n\")\n",
    "      next\n",
    "    }\n",
    "    \n",
    "    # Check if phenotype data exists\n",
    "    phenotype_file <- file.path(metadata_dir, paste0(geo_accession, \"_phenotype.csv\"))\n",
    "    if (!file.exists(phenotype_file)) {\n",
    "      cat(\"Phenotype data not found for\", geo_accession, \", skipping...\\n\")\n",
    "      next\n",
    "    }\n",
    "    \n",
    "    # Try running DESeq2 analysis\n",
    "    tryCatch({\n",
    "      res <- run_deseq2_analysis(geo_accession)\n",
    "      \n",
    "      if (!is.null(res)) {\n",
    "        # Extract significant DEGs (padj < 0.05, |log2FC| > 1)\n",
    "        res_df <- as.data.frame(res)\n",
    "        res_df$gene <- rownames(res_df)\n",
    "        \n",
    "        sig_degs <- res_df[!is.na(res_df$padj) & res_df$padj < 0.05 & abs(res_df$log2FoldChange) > 1, ]\n",
    "        \n",
    "        if (nrow(sig_degs) > 0) {\n",
    "          # Add to combined dataframe\n",
    "          dataset_degs <- data.frame(\n",
    "            gene = sig_degs$gene,\n",
    "            dataset = rep(geo_accession, nrow(sig_degs)),\n",
    "            log2FoldChange = sig_degs$log2FoldChange,\n",
    "            padj = sig_degs$padj\n",
    "          )\n",
    "          \n",
    "          all_degs <- rbind(all_degs, dataset_degs)\n",
    "        }\n",
    "      }\n",
    "    }, error = function(e) {\n",
    "      cat(\"Error running DESeq2 analysis for\", geo_accession, \":\", conditionMessage(e), \"\\n\")\n",
    "    })\n",
    "  }\n",
    "  \n",
    "  # Save combined DEGs\n",
    "  all_degs_file <- file.path(results_dir, \"all_significant_degs.csv\")\n",
    "  write.csv(all_degs, all_degs_file, row.names = FALSE)\n",
    "  \n",
    "  # Find common DEGs across datasets\n",
    "  if (nrow(all_degs) > 0) {\n",
    "    # Count occurrences of each gene\n",
    "    gene_counts <- table(all_degs$gene)\n",
    "    \n",
    "    # Find genes that appear in multiple datasets\n",
    "    common_genes <- names(gene_counts[gene_counts > 1])\n",
    "    \n",
    "    # Save common genes\n",
    "    common_genes_file <- file.path(results_dir, \"common_degs.csv\")\n",
    "    common_degs <- all_degs[all_degs$gene %in% common_genes, ]\n",
    "    write.csv(common_degs, common_genes_file, row.names = FALSE)\n",
    "    \n",
    "    cat(\"\\nFound\", length(common_genes), \"genes differentially expressed in multiple datasets\\n\")\n",
    "  } else {\n",
    "    cat(\"\\nNo significant differentially expressed genes found\\n\")\n",
    "  }\n",
    "  \n",
    "  return(all_degs)\n",
    "}\n",
    "\n",
    "# Function to create a visualizable report of the analysis\n",
    "create_analysis_report <- function() {\n",
    "  if (!requireNamespace(\"ggplot2\", quietly = TRUE)) {\n",
    "    install.packages(\"ggplot2\")\n",
    "  }\n",
    "  if (!requireNamespace(\"pheatmap\", quietly = TRUE)) {\n",
    "    install.packages(\"pheatmap\")\n",
    "  }\n",
    "  \n",
    "  library(ggplot2)\n",
    "  library(pheatmap)\n",
    "  \n",
    "  # Create report directory\n",
    "  report_dir <- file.path(main_dir, \"report\")\n",
    "  if (!dir.exists(report_dir)) {\n",
    "    dir.create(report_dir)\n",
    "  }\n",
    "  \n",
    "  # Check if DESeq2 results exist\n",
    "  results_dir <- file.path(main_dir, \"deseq2_results\")\n",
    "  all_degs_file <- file.path(results_dir, \"all_significant_degs.csv\")\n",
    "  \n",
    "  if (file.exists(all_degs_file)) {\n",
    "    all_degs <- read.csv(all_degs_file)\n",
    "    \n",
    "    # Create plots\n",
    "    \n",
    "    # 1. Number of DEGs per dataset\n",
    "    degs_per_dataset <- as.data.frame(table(all_degs$dataset))\n",
    "    colnames(degs_per_dataset) <- c(\"Dataset\", \"DEGs_Count\")\n",
    "    \n",
    "    p1 <- ggplot(degs_per_dataset, aes(x = Dataset, y = DEGs_Count)) +\n",
    "      geom_bar(stat = \"identity\", fill = \"steelblue\") +\n",
    "      theme_minimal() +\n",
    "      theme(axis.text.x = element_text(angle = 45, hjust = 1)) +\n",
    "      labs(title = \"Number of DEGs per Dataset\", x = \"Dataset\", y = \"Count\")\n",
    "    \n",
    "    ggsave(file.path(report_dir, \"degs_per_dataset.pdf\"), p1, width = 10, height = 6)\n",
    "    \n",
    "    # 2. Volcano plot for one dataset (use the first one with results)\n",
    "    datasets_with_degs <- unique(all_degs$dataset)\n",
    "    if (length(datasets_with_degs) > 0) {\n",
    "      example_dataset <- datasets_with_degs[1]\n",
    "      results_file <- file.path(results_dir, paste0(example_dataset, \"_deseq2_results.csv\"))\n",
    "      \n",
    "      if (file.exists(results_file)) {\n",
    "        res_df <- read.csv(results_file)\n",
    "        \n",
    "        # Create volcano plot\n",
    "        res_df$significant <- ifelse(!is.na(res_df$padj) & res_df$padj < 0.05 & abs(res_df$log2FoldChange) > 1, \"Yes\", \"No\")\n",
    "        \n",
    "        p2 <- ggplot(res_df, aes(x = log2FoldChange, y = -log10(padj), color = significant)) +\n",
    "          geom_point(alpha = 0.6) +\n",
    "          scale_color_manual(values = c(\"No\" = \"grey\", \"Yes\" = \"red\")) +\n",
    "          theme_minimal() +\n",
    "          labs(title = paste(\"Volcano Plot -\", example_dataset),\n",
    "               x = \"log2 Fold Change\", y = \"-log10 Adjusted p-value\")\n",
    "        \n",
    "        ggsave(file.path(report_dir, \"volcano_plot.pdf\"), p2, width = 8, height = 6)\n",
    "      }\n",
    "    }\n",
    "    \n",
    "    # 3. Top common DEGs heatmap\n",
    "    common_genes_file <- file.path(results_dir, \"common_degs.csv\")\n",
    "    if (file.exists(common_genes_file)) {\n",
    "      common_degs <- read.csv(common_genes_file)\n",
    "      \n",
    "      # Get top 50 common genes by frequency\n",
    "      gene_counts <- table(common_degs$gene)\n",
    "      top_genes <- names(sort(gene_counts, decreasing = TRUE)[1:min(50, length(gene_counts))])\n",
    "      \n",
    "      # Create a matrix of log2FC values for heatmap\n",
    "      top_common_degs <- common_degs[common_degs$gene %in% top_genes, ]\n",
    "      \n",
    "      # Reshape data for heatmap\n",
    "      heatmap_data <- reshape2::dcast(top_common_degs, gene ~ dataset, value.var = \"log2FoldChange\")\n",
    "      rownames(heatmap_data) <- heatmap_data$gene\n",
    "      heatmap_data$gene <- NULL\n",
    "      \n",
    "      # Replace NA values with 0\n",
    "      heatmap_data[is.na(heatmap_data)] <- 0\n",
    "      \n",
    "      # Create heatmap\n",
    "      pdf(file.path(report_dir, \"top_common_degs_heatmap.pdf\"), width = 12, height = 10)\n",
    "      pheatmap(heatmap_data, \n",
    "               main = \"Top Common DEGs across Datasets\",\n",
    "               cluster_rows = TRUE, \n",
    "               cluster_cols = TRUE,\n",
    "               scale = \"row\",\n",
    "               color = colorRampPalette(c(\"blue\", \"white\", \"red\"))(100))\n",
    "      dev.off()\n",
    "    }\n",
    "    \n",
    "    # Create an HTML report\n",
    "    html_report <- file.path(report_dir, \"analysis_report.html\")\n",
    "    cat(\"<html>\\n<head>\\n<title>NAFLD/NASH RNA-seq Analysis Report</title>\\n\", file = html_report)\n",
    "    cat(\"<style>body { font-family: Arial, sans-serif; margin: 20px; }\\n\", file = html_report, append = TRUE)\n",
    "    cat(\"h1, h2 { color: #2c3e50; }\\n\", file = html_report, append = TRUE)\n",
    "    cat(\"table { border-collapse: collapse; width: 100%; }\\n\", file = html_report, append = TRUE)\n",
    "    cat(\"th, td { text-align: left; padding: 8px; border: 1px solid #ddd; }\\n\", file = html_report, append = TRUE)\n",
    "    cat(\"tr:nth-child(even) { background-color: #f2f2f2; }\\n\", file = html_report, append = TRUE)\n",
    "    cat(\"th { background-color: #4CAF50; color: white; }\\n\", file = html_report, append = TRUE)\n",
    "    cat(\"</style>\\n</head>\\n<body>\\n\", file = html_report, append = TRUE)\n",
    "    \n",
    "    cat(\"<h1>NAFLD/NASH RNA-seq Analysis Report</h1>\\n\", file = html_report, append = TRUE)\n",
    "    \n",
    "    # Dataset summary\n",
    "    cat(\"<h2>Dataset Summary</h2>\\n\", file = html_report, append = TRUE)\n",
    "    cat(\"<table>\\n<tr><th>GEO Accession</th><th>Sample Count</th><th>SRA Available</th><th>DEGs Count</th></tr>\\n\", file = html_report, append = TRUE)\n",
    "    \n",
    "    for (i in 1:nrow(summary_df)) {\n",
    "      deg_count <- sum(all_degs$dataset == summary_df$GEO_Accession[i])\n",
    "      cat(sprintf(\"<tr><td>%s</td><td>%d</td><td>%s</td><td>%d</td></tr>\\n\", \n",
    "                  summary_df$GEO_Accession[i], \n",
    "                  summary_df$Sample_Count[i],\n",
    "                  ifelse(summary_df$SRA_Available[i], \"Yes\", \"No\"),\n",
    "                  deg_count), file = html_report, append = TRUE)\n",
    "    }\n",
    "    \n",
    "    cat(\"</table>\\n\", file = html_report, append = TRUE)\n",
    "    \n",
    "    # Plots\n",
    "    cat(\"<h2>Analysis Plots</h2>\\n\", file = html_report, append = TRUE)\n",
    "    cat(\"<p>The following plots have been generated:</p>\\n\", file = html_report, append = TRUE)\n",
    "    cat(\"<ul>\\n\", file = html_report, append = TRUE)\n",
    "    cat(\"<li><a href='degs_per_dataset.pdf'>Number of DEGs per Dataset</a></li>\\n\", file = html_report, append = TRUE)\n",
    "    cat(\"<li><a href='volcano_plot.pdf'>Volcano Plot</a></li>\\n\", file = html_report, append = TRUE)\n",
    "    cat(\"<li><a href='top_common_degs_heatmap.pdf'>Top Common DEGs Heatmap</a></li>\\n\", file = html_report, append = TRUE)\n",
    "    cat(\"</ul>\\n\", file = html_report, append = TRUE)\n",
    "    \n",
    "    # Top common DEGs table\n",
    "    if (file.exists(common_genes_file)) {\n",
    "      common_degs <- read.csv(common_genes_file)\n",
    "      gene_counts <- table(common_degs$gene)\n",
    "      top_genes <- names(sort(gene_counts, decreasing = TRUE)[1:min(20, length(gene_counts))])\n",
    "      \n",
    "      cat(\"<h2>Top 20 Common Differentially Expressed Genes</h2>\\n\", file = html_report, append = TRUE)\n",
    "      cat(\"<table>\\n<tr><th>Gene</th><th>Occurrences</th><th>Average Log2FC</th></tr>\\n\", file = html_report, append = TRUE)\n",
    "      \n",
    "      for (gene in top_genes) {\n",
    "        gene_data <- common_degs[common_degs$gene == gene, ]\n",
    "        avg_log2fc <- mean(gene_data$log2FoldChange)\n",
    "        cat(sprintf(\"<tr><td>%s</td><td>%d</td><td>%.2f</td></tr>\\n\", \n",
    "                    gene, length(gene_data$gene), avg_log2fc), file = html_report, append = TRUE)\n",
    "      }\n",
    "      \n",
    "      cat(\"</table>\\n\", file = html_report, append = TRUE)\n",
    "    }\n",
    "    \n",
    "    cat(\"</body>\\n</html>\", file = html_report, append = TRUE)\n",
    "    \n",
    "    cat(\"\\nAnalysis report created in:\", report_dir, \"\\n\")\n",
    "  } else {\n",
    "    cat(\"\\nNo DESeq2 results found. Please run the extract_degs_from_all_datasets function first.\\n\")\n",
    "  }\n",
    "}\n",
    "\n",
    "# Function to export candidate genes for Cas13 library design\n",
    "export_candidate_genes_for_cas13 <- function() {\n",
    "  # Check if DESeq2 results exist\n",
    "  results_dir <- file.path(main_dir, \"deseq2_results\")\n",
    "  common_genes_file <- file.path(results_dir, \"common_degs.csv\")\n",
    "  \n",
    "  if (!file.exists(common_genes_file)) {\n",
    "    cat(\"No common DEGs file found. Please run the extract_degs_from_all_datasets function first.\\n\")\n",
    "    return(NULL)\n",
    "  }\n",
    "  \n",
    "  common_degs <- read.csv(common_genes_file)\n",
    "  \n",
    "  # Create library design directory\n",
    "  library_dir <- file.path(main_dir, \"cas13_library\")\n",
    "  if (!dir.exists(library_dir)) {\n",
    "    dir.create(library_dir)\n",
    "  }\n",
    "  \n",
    "  # Get gene counts\n",
    "  gene_counts <- table(common_degs$gene)\n",
    "  gene_occurrence <- as.data.frame(gene_counts)\n",
    "  colnames(gene_occurrence) <- c(\"gene\", \"occurrence\")\n",
    "  \n",
    "  # Calculate average log2FC for each gene\n",
    "  gene_stats <- aggregate(log2FoldChange ~ gene, data = common_degs, FUN = function(x) c(mean = mean(x), sd = sd(x)))\n",
    "  gene_stats_df <- do.call(data.frame, gene_stats)\n",
    "  colnames(gene_stats_df) <- c(\"gene\", \"mean_log2FC\", \"sd_log2FC\")\n",
    "  \n",
    "  # Merge occurrence and stats\n",
    "  candidate_genes <- merge(gene_occurrence, gene_stats_df, by = \"gene\")\n",
    "  \n",
    "  # Sort by occurrence and mean log2FC\n",
    "  candidate_genes <- candidate_genes[order(-candidate_genes$occurrence, abs(candidate_genes$mean_log2FC), decreasing = TRUE), ]\n",
    "  \n",
    "  # Add rank\n",
    "  candidate_genes$rank <- 1:nrow(candidate_genes)\n",
    "  \n",
    "  # Save candidate genes\n",
    "  candidate_genes_file <- file.path(library_dir, \"candidate_genes_for_cas13.csv\")\n",
    "  write.csv(candidate_genes, candidate_genes_file, row.names = FALSE)\n",
    "  \n",
    "  # Create a prioritized list (top 100 or all if less)\n",
    "  n_candidates <- min(100, nrow(candidate_genes))\n",
    "  prioritized_genes <- candidate_genes[1:n_candidates, ]\n",
    "  \n",
    "  prioritized_genes_file <- file.path(library_dir, \"prioritized_genes_for_cas13.csv\")\n",
    "  write.csv(prioritized_genes, prioritized_genes_file, row.names = FALSE)\n",
    "  \n",
    "  cat(\"\\nCandidate genes for Cas13 library design exported to:\", library_dir, \"\\n\")\n",
    "  cat(\"Total candidate genes:\", nrow(candidate_genes), \"\\n\")\n",
    "  cat(\"Prioritized genes (top\", n_candidates, \"):\", \"see\", prioritized_genes_file, \"\\n\")\n",
    "  "
   ]
  }
 ],
 "metadata": {
  "kernelspec": {
   "display_name": "R",
   "language": "R",
   "name": "ir"
  },
  "language_info": {
   "codemirror_mode": "r",
   "file_extension": ".r",
   "mimetype": "text/x-r-source",
   "name": "R",
   "pygments_lexer": "r",
   "version": "4.4.2"
  }
 },
 "nbformat": 4,
 "nbformat_minor": 2
}
